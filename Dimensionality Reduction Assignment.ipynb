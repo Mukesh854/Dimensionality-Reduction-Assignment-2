{
 "cells": [
  {
   "cell_type": "markdown",
   "id": "90cc8d43-2f7b-4238-a4df-9e4a42fd6177",
   "metadata": {},
   "source": [
    "# Dimensionality Reduction Assignment-2"
   ]
  },
  {
   "cell_type": "markdown",
   "id": "5945098e-570b-4aa6-b220-fa66f1d51856",
   "metadata": {},
   "source": [
    "Q1. What is a projection and how is it used in PCA?"
   ]
  },
  {
   "cell_type": "markdown",
   "id": "b372ba89-5f11-4a2b-9c73-6f6d5ae7f03a",
   "metadata": {},
   "source": [
    "In PCA, a projection refers to transforming high-dimensional data onto a lower-dimensional subspace while preserving the maximum variance. It involves selecting the top eigenvectors (principal components) to define this subspace and projecting the data onto it for dimensionality reduction."
   ]
  },
  {
   "cell_type": "markdown",
   "id": "8b574177-9463-401d-9ca5-4f1393727bef",
   "metadata": {},
   "source": [
    "Q2. How does the optimization problem in PCA work, and what is it trying to achieve?"
   ]
  },
  {
   "cell_type": "markdown",
   "id": "dbc6c1c9-805c-4db4-83fc-9395ce2da4a1",
   "metadata": {},
   "source": [
    "The optimization problem in PCA seeks to find the best low-dimensional representation of data by selecting principal components that maximize the variance of the projected data points. This is achieved through eigendecomposition or singular value decomposition of the covariance matrix, selecting top eigenvectors corresponding to largest eigenvalues, and projecting the data onto these components."
   ]
  },
  {
   "cell_type": "markdown",
   "id": "78d4d5b0-4713-4430-950b-5574ee2cdd49",
   "metadata": {},
   "source": [
    "Q3. What is the relationship between covariance matrices and PCA?"
   ]
  },
  {
   "cell_type": "markdown",
   "id": "55fc7608-d0d7-4835-993b-4f7418ce9717",
   "metadata": {},
   "source": [
    "The covariance matrix in PCA summarizes relationships between features. Through eigendecomposition, it provides eigenvectors (principal components) representing directions of maximum variance. These components enable dimensionality reduction while preserving data variance."
   ]
  },
  {
   "cell_type": "markdown",
   "id": "def71978-0d42-4110-9443-1613669e8b84",
   "metadata": {},
   "source": [
    "Q4. How does the choice of number of principal components impact the performance of PCA?"
   ]
  },
  {
   "cell_type": "markdown",
   "id": "86d09deb-55a5-4276-b156-a89a0fa347b5",
   "metadata": {},
   "source": [
    "\n",
    "The choice of the number of principal components affects PCA's performance by balancing information retention, computational complexity, and risk\n",
    "\n",
    "\n",
    "\n",
    "\n"
   ]
  },
  {
   "cell_type": "markdown",
   "id": "0df100a8-1a13-49c5-84db-6de61ebe7028",
   "metadata": {},
   "source": [
    "Q5. How can PCA be used in feature selection, and what are the benefits of using it for this purpose?"
   ]
  },
  {
   "cell_type": "markdown",
   "id": "494617fa-23b8-49a0-baf6-0a5589f2c3cd",
   "metadata": {},
   "source": [
    "\n",
    "PCA for feature selection involves identifying important features based on their contribution to data variance. It reduces dimensionality, addresses collinearity, simplifies interpretation, and potentially improves model performance."
   ]
  },
  {
   "cell_type": "markdown",
   "id": "0803f438-c42a-4a79-88ec-16e50a041c8c",
   "metadata": {},
   "source": [
    "Q6. What are some common applications of PCA in data science and machine learning?"
   ]
  },
  {
   "cell_type": "markdown",
   "id": "518ebb3b-76a3-4314-ab72-4026f4d94bcd",
   "metadata": {},
   "source": [
    "\n",
    "PCA finds applications in dimensionality reduction, feature extraction, data visualization, noise reduction, preprocessing, compression, signal processing, and anomaly detection across various domains in data science and machine learning.\n",
    "\n",
    "\n",
    "\n",
    "\n"
   ]
  },
  {
   "cell_type": "markdown",
   "id": "37c06aa0-5339-47f2-8899-4db07047d4eb",
   "metadata": {},
   "source": [
    "Q7.What is the relationship between spread and variance in PCA?"
   ]
  },
  {
   "cell_type": "markdown",
   "id": "aaac8707-cd88-4a94-81ea-baaf195c47f7",
   "metadata": {},
   "source": [
    "In PCA, variance measures the spread of data along individual dimensions, while spread refers to the overall variability captured by principal components, determined by their corresponding eigenvalues.\n",
    "\n",
    "\n",
    "\n",
    "\n",
    "\n"
   ]
  },
  {
   "cell_type": "markdown",
   "id": "a88b9fcf-4e41-4749-ba38-c17aaf15e2cd",
   "metadata": {},
   "source": [
    "Q8. How does PCA use the spread and variance of the data to identify principal components?"
   ]
  },
  {
   "cell_type": "markdown",
   "id": "cc68fc9c-ecc3-448f-a59a-5508fd8fc496",
   "metadata": {},
   "source": [
    "\n",
    "PCA identifies principal components by analyzing the spread and variance of the data along different dimensions. It selects components with higher variance, indicated by larger eigenvalues from the covariance matrix, for dimensionality reduction.\n",
    "\n",
    "\n",
    "\n",
    "\n"
   ]
  },
  {
   "cell_type": "markdown",
   "id": "f3e8299b-4bf1-4e03-a463-d9608def3b43",
   "metadata": {},
   "source": [
    "Q9. How does PCA handle data with high variance in some dimensions but low variance in others?"
   ]
  },
  {
   "cell_type": "markdown",
   "id": "8fcdefdf-4c9d-435e-bd3c-598ce8ddde45",
   "metadata": {},
   "source": [
    "PCA emphasizes dimensions with high variance and suppresses those with low variance. It captures the most important patterns while reducing dimensionality.\n",
    "\n",
    "\n",
    "\n",
    "\n",
    "\n"
   ]
  },
  {
   "cell_type": "code",
   "execution_count": null,
   "id": "4cc4fe41-00b4-4ec8-bb86-b8dfaf20c57e",
   "metadata": {},
   "outputs": [],
   "source": []
  }
 ],
 "metadata": {
  "kernelspec": {
   "display_name": "Python 3 (ipykernel)",
   "language": "python",
   "name": "python3"
  },
  "language_info": {
   "codemirror_mode": {
    "name": "ipython",
    "version": 3
   },
   "file_extension": ".py",
   "mimetype": "text/x-python",
   "name": "python",
   "nbconvert_exporter": "python",
   "pygments_lexer": "ipython3",
   "version": "3.10.8"
  }
 },
 "nbformat": 4,
 "nbformat_minor": 5
}
